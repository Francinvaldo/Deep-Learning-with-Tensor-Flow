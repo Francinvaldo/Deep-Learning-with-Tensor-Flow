{
 "cells": [
  {
   "cell_type": "markdown",
   "metadata": {},
   "source": [
    "<p style ='text-align: justify'>TensorFlow é uma biblioteca de código aberto desenvolvida pela Google Brain Team.\n",
    "É uma biblioteca extremamente versátil, mas foi originalmente criada para tarefas que exigem\n",
    "grandes computações numéricas.\n",
    "Por este motivo, TensorFlow foi orientado para o problema do aprendizado da máquina e profundo redes neurais.\n",
    "Devido a um backend C/C ++, o TensorFlow pode ser executado mais rápido do que o código puro  Python.\n",
    "A última coisa que vamos mencionar aqui é que um aplicativo TensorFlow usa uma estrutura\n",
    "conhecido como um gráfico de fluxo de dados.\n",
    "Vamos abordar isso com mais detalhes em breve.\n",
    "O TensorFlow oferece várias vantagens para uma aplicação.\n",
    "Ele fornece um Python e uma API C ++.\n",
    "Mas a Python API é mais completa e geralmente é mais fácil de usar.\n",
    "TensorFlow também tem ótimos tempos de compilação em comparação com o bibliotecas de aprendizado profundo alternativo E suporta CPUs, GPUs e até processamento distribuído em um cluster.\n",
    "A estrutura do TensorFlow é baseada na execução de um gráfico de fluxo de dados.\n",
    "Um gráfico de fluxo de dados tem duas unidades básicas.\n",
    "Um nó representa uma operação matemática, e uma borda representa uma multidimensional\n",
    "matriz, conhecida como um tensor.\n",
    "Portanto, essa abstração de alto nível revela como os dados fluem entre as operações.\n",
    "O uso padrão é construir um gráfico e depois executar  a sessão é criada,\n",
    "\n",
    "usando as operações 'run' e 'eval'.\n",
    "\n",
    "Como isso seria difícil para ambientes interativos, como cadernos IPython e Jupyter,\n",
    "existe uma opção para criar sessões interativas que funcionam sob demanda.\n",
    "Uma vez que o gráfico é construído, um loop interno é escrito para conduzir a computação.\n",
    "Os insumos são alimentados em nós através de variáveis ​​ou espaços reservados.\n",
    "Você pode dar uma olhada em como isso pode funcionar no gráfico de exemplo aqui.\n",
    "Em TensorFlow, um gráfico só executará cálculos após a criação de uma sessão.\n",
    "A arquitetura flexível da TensorFlow permite que você implante computação em uma ou mais CPUs,\n",
    "ou GPUs, ou em uma área de trabalho, servidor ou mesmo um dispositivo móvel.\n",
    "Tudo isso pode ser feito enquanto usa apenas uma única API.\n",
    "Como mencionamos anteriormente, o TensorFlow vem com uma interface Python fácil de usar para construir e\n",
    "Execute seus gráficos computacionais.\n",
    "É fácil brincar e aprender sobre o aprendizado da máquina usando o Data Scientist Workbench,\n",
    "ou DSWB.\n",
    "O objetivo é que você não precisa de nenhum hardware especial.\n",
    "Você pode expandir e desenvolver modelos mais rapidamente com diferentes implementações.\n",
    "Então, vamos tocar brevemente porque o TensorFlow é adequado para aplicações de aprendizado profundo.\n",
    "O TensorFlow possui suporte integrado para redes profundas de aprendizagem e neurais, por isso é fácil de montar\n",
    "uma rede, atribuir parâmetros e executar o processo de treinamento.\n",
    "Ele também possui uma coleção de funções matemáticas simples e treináveis ​​que são úteis para\n",
    "redes neurais.\n",
    "E qualquer algoritmo de aprendizado de máquina baseado em gradiente se beneficiará da auto-diferenciação de TensorFlow\n",
    "e um conjunto de otimizadores de primeira linha.\n",
    "Devido à grande coleção de ferramentas flexíveis, o TensorFlow é compatível com muitas variantes\n",
    "de aprendizagem de máquinas.\n",
    "Como uma visão geral rápida, uma rede neural é um modelo de aprendizado de máquina inspirado no cérebro.\n",
    "Os dados entram em uma camada de entrada e circulam para uma camada de saída.\n",
    "As camadas ocultas no meio são responsáveis ​​pela execução dos cálculos.\n",
    "A rede neural simples que você vê aqui é conhecida como um perceptron de várias camadas.\n",
    "Ao aumentar o número de camadas ocultas, passamos de uma rede neural rasa, para\n",
    "uma rede neural profunda.\n",
    "As redes neurais profundas são capazes de comportamentos significativamente mais complexos do que as suas contrapartes superficiais.\n",
    "Cada nó, ou neurônio como é chamado, processa a entrada usando uma função de ativação.\n",
    "Existem muitas funções diferentes, como o passo binário, a tangente hiperbólica e a\n",
    "Função logística.\n",
    "A escolha da função de ativação tem um grande impacto no comportamento da rede.\n",
    "O TensorFlow oferece muita flexibilidade porque lhe dá controle sobre a estrutura da rede\n",
    "e as funções utilizadas para o processamento.\n",
    "Mas TensorFlow pode ser usado para mais do que apenas redes neurais.\n",
    "Também pode ser usado para tomar um conjunto de pontos e aplicar uma regressão linear.\n",
    "Na sua forma mais básica, esta é essencialmente uma \"linha de melhor ajuste\".\n",
    "E se uma linha não é adequada para seus dados,\n",
    "Você pode usar o TensorFlow para construir modelos não-lineares também.\n",
    "Se você precisa construir um modelo para executar a classificação, com TensorFlow, você pode implementar facilmente\n",
    "regressão logística.\n",
    "E estes são apenas alguns dos modelos básicos que podem ser implementados com o TensorFlow.\n",
    "Até agora, você deve ter uma compreensão básica da estrutura da TensorFlow e suas capacidades.\n",
    "Obrigado por assistir este vídeo.</p>"
   ]
  },
  {
   "cell_type": "code",
   "execution_count": null,
   "metadata": {
    "collapsed": true
   },
   "outputs": [],
   "source": []
  }
 ],
 "metadata": {
  "kernelspec": {
   "display_name": "Python 3",
   "language": "python",
   "name": "python3"
  },
  "language_info": {
   "codemirror_mode": {
    "name": "ipython",
    "version": 3
   },
   "file_extension": ".py",
   "mimetype": "text/x-python",
   "name": "python",
   "nbconvert_exporter": "python",
   "pygments_lexer": "ipython3",
   "version": "3.5.2"
  }
 },
 "nbformat": 4,
 "nbformat_minor": 2
}
