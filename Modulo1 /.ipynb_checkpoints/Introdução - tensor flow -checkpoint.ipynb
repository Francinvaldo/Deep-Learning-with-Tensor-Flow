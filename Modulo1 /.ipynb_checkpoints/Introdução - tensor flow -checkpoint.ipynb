{
 "cells": [
  {
   "cell_type": "markdown",
   "metadata": {},
   "source": [
    "Modulo 1 - tensorflow \n",
    "\n",
    "  * [Introdução TensorFlow](Intrudução tensor flow.ipynb)\n",
    "  * [TensorFlow's Hello World ](TensorFlow's Hello World.ipynb)\n",
    "  * Linear Regression with Tensorflow\n",
    "  * Nonlinear Regression \n",
    "  * Logistic Regression\n",
    "  * Activation Functions\n"
   ]
  },
  {
   "cell_type": "code",
   "execution_count": 3,
   "metadata": {},
   "outputs": [
    {
     "name": "stdout",
     "output_type": "stream",
     "text": [
      "Introdução - tensor flow .ipynb\r\n",
      "Intrudução tensor flow.ipynb\r\n",
      "Mod 1 Vid 1 - Introduction to TensorFlow %285 37%29.srt\r\n",
      "Mod 1 Vid 1 - Introduction to TensorFlow %285 37%29.txt\r\n",
      "TensorFlow's Hello World.ipynb\r\n"
     ]
    }
   ],
   "source": [
    "!ls"
   ]
  },
  {
   "cell_type": "code",
   "execution_count": null,
   "metadata": {
    "collapsed": true
   },
   "outputs": [],
   "source": []
  }
 ],
 "metadata": {
  "kernelspec": {
   "display_name": "Python 3",
   "language": "python",
   "name": "python3"
  },
  "language_info": {
   "codemirror_mode": {
    "name": "ipython",
    "version": 3
   },
   "file_extension": ".py",
   "mimetype": "text/x-python",
   "name": "python",
   "nbconvert_exporter": "python",
   "pygments_lexer": "ipython3",
   "version": "3.5.2"
  }
 },
 "nbformat": 4,
 "nbformat_minor": 2
}
