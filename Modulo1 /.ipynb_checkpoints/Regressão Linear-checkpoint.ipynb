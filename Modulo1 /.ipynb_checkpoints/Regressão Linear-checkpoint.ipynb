{
 "cells": [
  {
   "cell_type": "markdown",
   "metadata": {},
   "source": [
    "Regressão linear\n",
    "Definindo uma regressão linear em termos simples, é a aproximação de um modelo linear usado para descrever o relacionamento entre duas ou mais variáveis. Em uma regressão linear simples, existem duas variáveis, a variável dependente, que pode ser vista como o \"estado\" ou \"objetivo final\" que estudamos e tentamos prever, e as variáveis ​​independentes, também conhecidas como variáveis ​​explicativas, que podem ser vistas como as \"causas\" dos \"estados\".\n",
    "Quando mais de uma variável independente está presente, o processo é chamado de regressão linear múltipla. Quando várias variáveis ​​dependentes são previstas, o processo é conhecido como regressão linear multivariada.\n",
    "A equação muito conhecida de um modelo linear simples é $$ Y = aX + b $$\n",
    "\n",
    "\n",
    "Onde Y é a variável dependente e X é a variável independente, e a e b sendo os parâmetros que ajustamos. A é conhecido como __\"inclinação\" ou \"gradiente\"__ e __b como \"interceptação\".__ Você pode interpretar esta equação como Y sendo uma função de X, ou Y dependendo de X.\n",
    "Se você traçar o modelo, você verá que é uma linha e, ao ajustar o parâmetro \"inclinação\", você alterará o ângulo entre a linha e o eixo da variável independente e o \"parâmetro de interceptação\" afetará onde ele cruza a variável dependente eixo.\n",
    " \n"
   ]
  },
  {
   "cell_type": "code",
   "execution_count": 15,
   "metadata": {
    "collapsed": true
   },
   "outputs": [],
   "source": [
    "import numpy as np\n",
    "import tensorflow as tf\n",
    "import matplotlib.pyplot as plt\n",
    "%matplotlib inline"
   ]
  },
  {
   "cell_type": "code",
   "execution_count": 16,
   "metadata": {},
   "outputs": [
    {
     "data": {
      "image/png": "[encoded data removed]",
      "text/plain": [
       "<matplotlib.figure.Figure at 0x7f8857fb4198>"
      ]
     },
     "metadata": {},
     "output_type": "display_data"
    }
   ],
   "source": [
    "X = np.arange(0.0 , 5.0 , 0.1)\n",
    "a=1\n",
    "b=0\n",
    "Y = a*X+b\n",
    "plt.plot(X, Y)\n",
    "plt.ylabel('Variavel dependente')\n",
    "plt.xlabel('Variavel Indenpendente')\n",
    "plt.show()"
   ]
  },
  {
   "cell_type": "markdown",
   "metadata": {},
   "source": [
    "# Regressão Linear usando tensor flow "
   ]
  },
  {
   "cell_type": "code",
   "execution_count": 17,
   "metadata": {},
   "outputs": [],
   "source": [
    "x_data = np.random.rand(100).astype(np.float32)\n",
    " "
   ]
  },
  {
   "cell_type": "markdown",
   "metadata": {},
   "source": [
    "modelo usado  ,  $$ Y = 3X+2 $$"
   ]
  },
  {
   "cell_type": "code",
   "execution_count": 18,
   "metadata": {},
   "outputs": [
    {
     "data": {
      "image/png": "[encoded data removed]",
      "text/plain": [
       "<matplotlib.figure.Figure at 0x7f8857fc8ef0>"
      ]
     },
     "metadata": {},
     "output_type": "display_data"
    }
   ],
   "source": [
    "x_point = []\n",
    "y_point = []\n",
    "\n",
    "nuvem = 500\n",
    "\n",
    "for i in range(500):\n",
    "    x = np.random.normal(0.0,0.5)\n",
    "    #modelo \n",
    "    y = 3*x+2+np.random.normal(0.0,0.1)\n",
    "    x_point.append(x)\n",
    "    y_point.append(y)\n",
    "plt.plot(x_point , y_point , 'o' , label ='Input Data')\n",
    "plt.show()\n",
    "     "
   ]
  },
  {
   "cell_type": "code",
   "execution_count": null,
   "metadata": {
    "collapsed": true
   },
   "outputs": [],
   "source": []
  }
 ],
 "metadata": {
  "kernelspec": {
   "display_name": "Python 3",
   "language": "python",
   "name": "python3"
  },
  "language_info": {
   "codemirror_mode": {
    "name": "ipython",
    "version": 3
   },
   "file_extension": ".py",
   "mimetype": "text/x-python",
   "name": "python",
   "nbconvert_exporter": "python",
   "pygments_lexer": "ipython3",
   "version": "3.5.2"
  }
 },
 "nbformat": 4,
 "nbformat_minor": 2
}
