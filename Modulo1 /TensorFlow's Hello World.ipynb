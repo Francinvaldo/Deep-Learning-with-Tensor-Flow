{
 "cells": [
  {
   "cell_type": "markdown",
   "metadata": {},
   "source": [
    "## Contruindo  Graph"
   ]
  },
  {
   "cell_type": "markdown",
   "metadata": {},
   "source": [
    "O TensorFlow funciona como um modelo computacional de gráfico. Vamos criar o nosso primeiro gráfico.\n",
    "Para criar nosso primeiro gráfico, utilizaremos as operações de origem, que não precisam de entrada de informações. Essas operações de origem ou operações de origem passarão suas informações para outras operações que irão executar cálculos.\n",
    "Para criar duas operações de origem que irão produzir números, definiremos duas constantes"
   ]
  },
  {
   "cell_type": "code",
   "execution_count": 20,
   "metadata": {
    "collapsed": true
   },
   "outputs": [],
   "source": [
    "import tensorflow as tf\n",
    "import numpy as np"
   ]
  },
  {
   "cell_type": "code",
   "execution_count": 21,
   "metadata": {
    "collapsed": true
   },
   "outputs": [],
   "source": [
    "a = tf.constant(2)\n",
    "b = tf.constant(3)\n",
    "\n",
    "c = tf.add(a,b)\n",
    "\n"
   ]
  },
  {
   "cell_type": "code",
   "execution_count": 22,
   "metadata": {},
   "outputs": [
    {
     "name": "stdout",
     "output_type": "stream",
     "text": [
      "5\n"
     ]
    },
    {
     "data": {
      "text/plain": [
       "<bound method BaseSession.close of <tensorflow.python.client.session.Session object at 0x7f3e9bd44be0>>"
      ]
     },
     "execution_count": 22,
     "metadata": {},
     "output_type": "execute_result"
    }
   ],
   "source": [
    "#Executando o calculo\n",
    "\n",
    "Sess = tf.Session()\n",
    "print(Sess.run(c))\n",
    "\n",
    "Sess.close"
   ]
  },
  {
   "cell_type": "code",
   "execution_count": 23,
   "metadata": {
    "collapsed": true
   },
   "outputs": [],
   "source": [
    "# Defining multidimensional arrays using TensorFlow"
   ]
  },
  {
   "cell_type": "markdown",
   "metadata": {},
   "source": [
    "## Definindo matrizes multidimensionais usando TensorFlow"
   ]
  },
  {
   "cell_type": "code",
   "execution_count": 41,
   "metadata": {
    "collapsed": true
   },
   "outputs": [],
   "source": [
    "Scalar = tf.constant(5)\n",
    "Vector = tf.constant([1,2,3])\n",
    "Matrix = tf.constant([[1,2,3],[2,3,4],[6,7,8]])\n",
    "Tesor =  tf.constant([[[1,2,3],[2,3,4],[3,4,5]] , [[4,5,6],[5,6,7],[6,7,8]],[[7,8,9],[8,9,10],[9,10,11]]])\n",
    "\n",
    "modelo = tf.global_variables_initializer()"
   ]
  },
  {
   "cell_type": "code",
   "execution_count": 42,
   "metadata": {},
   "outputs": [
    {
     "name": "stdout",
     "output_type": "stream",
     "text": [
      "O Scalar  e 5   \n",
      "O Vector e  1x3  = [1 2 3]\n",
      "A Matrix 3x3 e \n",
      "[[1 2 3]\n",
      " [2 3 4]\n",
      " [6 7 8]]\n",
      "Tensor 3x3x3 \n",
      "\n",
      " e [[[ 1  2  3]\n",
      "  [ 2  3  4]\n",
      "  [ 3  4  5]]\n",
      "\n",
      " [[ 4  5  6]\n",
      "  [ 5  6  7]\n",
      "  [ 6  7  8]]\n",
      "\n",
      " [[ 7  8  9]\n",
      "  [ 8  9 10]\n",
      "  [ 9 10 11]]]\n"
     ]
    }
   ],
   "source": [
    "with tf.Session() as sess:\n",
    "    sess.run(modelo)\n",
    "    print('O Scalar  e {}   '.format(sess.run(Scalar)))\n",
    "    print('O Vector e  1x3  = {}'.format(sess.run(Vector)))\n",
    "    print('A Matrix 3x3 e \\n{}'.format(sess.run(Matrix)))\n",
    "    print('Tensor 3x3x3 \\n\\n e {}'.format(sess.run(Tesor)))"
   ]
  },
  {
   "cell_type": "code",
   "execution_count": 43,
   "metadata": {
    "collapsed": true
   },
   "outputs": [],
   "source": [
    "#usando tensor flow (add)"
   ]
  },
  {
   "cell_type": "code",
   "execution_count": 45,
   "metadata": {
    "collapsed": true
   },
   "outputs": [],
   "source": [
    "Matri1 = tf.constant([[1,2,3],[2,3,4],[3,4,5]])#3x3\n",
    "Matri2 = tf.constant([[4,4,4],[5,5,5],[6,6,6]])\n",
    "\n",
    "#somar as matrizes\n",
    "\n",
    "resultado = tf.add(Matri1,Matri2)"
   ]
  },
  {
   "cell_type": "code",
   "execution_count": 46,
   "metadata": {},
   "outputs": [
    {
     "name": "stdout",
     "output_type": "stream",
     "text": [
      "O resultado da soma e [[ 5  6  7]\n",
      " [ 7  8  9]\n",
      " [ 9 10 11]]\n"
     ]
    }
   ],
   "source": [
    "sess = tf.Session()\n",
    "print('O resultado da soma e {}'.format(Sess.run(resultado)))"
   ]
  },
  {
   "cell_type": "markdown",
   "metadata": {},
   "source": [
    "## Variables"
   ]
  },
  {
   "cell_type": "markdown",
   "metadata": {},
   "source": [
    "Agora que estamos mais familiarizados com a estrutura de dados, analisaremos como o TensorFlow lida com as variáveis.\n",
    "Para definir variáveis, usamos o comando __tf.variable ()__. Para poder usar variáveis em um gráfico de computação, é necessário inicializá-las antes de executar o gráfico em uma sessão. Isso é feito executando __tf.global_variables_initializer ().__\n",
    "Para atualizar o valor de uma variável, simplesmente executamos uma operação de atribuição que atribui um valor à variável:"
   ]
  },
  {
   "cell_type": "code",
   "execution_count": 48,
   "metadata": {},
   "outputs": [
    {
     "name": "stdout",
     "output_type": "stream",
     "text": [
      "O valor atualizado e 2\n"
     ]
    }
   ],
   "source": [
    "inicia_valor = tf.Variable(1)\n",
    "\n",
    "\n",
    "const = tf.constant(1)\n",
    "\n",
    "\n",
    "novo_valor = tf.add(inicia_valor , const)\n",
    "\n",
    "atualizado = tf.assign(inicia_valor , novo_valor)\n",
    "\n",
    "modelo = tf.global_variables_initializer()\n",
    "\n",
    "with tf.Session() as sess:\n",
    "    sess.run(modelo)\n",
    "    print('O valor atualizado e {}'.format(sess.run(atualizado)))\n"
   ]
  },
  {
   "cell_type": "markdown",
   "metadata": {},
   "source": [
    "# Placeholders"
   ]
  },
  {
   "cell_type": "markdown",
   "metadata": {},
   "source": [
    "Agora, sabemos como manipular variáveis dentro do TensorFlow, mas o que é sobre a alimentação de dados fora de um modelo TensorFlow?\n",
    "Se você deseja alimentar dados para um modelo TensorFlow de fora de um modelo, você precisará usar marcadores de posição.\n",
    "Então, quais são esses espaços reservados e o que eles fazem?\n",
    "Os marcadores de posição podem ser vistos como \"furos\" em seu modelo, \"furos\" aos quais você passará os dados, você pode criá-los usando\n",
    "tf.placeholder (tipo de dados), onde o tipo de dados especifica o tipo de dados (inteiros, pontos flutuantes, strings, booleanos), juntamente com os bits de precisão (8, 16, 32, 64).\n",
    "A definição de cada tipo de dados com a respectiva sintaxe python é definida como:"
   ]
  },
  {
   "cell_type": "markdown",
   "metadata": {},
   "source": [
    "|Data type\t|Python type|Description|\n",
    "| --------- | --------- | --------- |\n",
    "|DT_FLOAT\t|tf.float32\t|32 bits floating point.|\n",
    "|DT_DOUBLE\t|tf.float64\t|64 bits floating point.|\n",
    "|DT_INT8\t|tf.int8\t|8 bits signed integer.|\n",
    "|DT_INT16\t|tf.int16\t|16 bits signed integer.|\n",
    "|DT_INT32\t|tf.int32\t|32 bits signed integer.|\n",
    "|DT_INT64\t|tf.int64\t|64 bits signed integer.|\n",
    "|DT_UINT8\t|tf.uint8\t|8 bits unsigned integer.|\n",
    "|DT_STRING\t|tf.string\t|Variable length byte arrays. Each element of a Tensor is a byte array.|\n",
    "|DT_BOOL\t|tf.bool\t|Boolean.|\n",
    "|DT_COMPLEX64\t|tf.complex64\t|Complex number made of two 32 bits floating points: real and imaginary parts.|\n",
    "|DT_COMPLEX128\t|tf.complex128\t|Complex number made of two 64 bits floating points: real and imaginary parts.|\n",
    "|DT_QINT8\t|tf.qint8\t|8 bits signed integer used in quantized Ops.|\n",
    "|DT_QINT32\t|tf.qint32\t|32 bits signed integer used in quantized Ops.|\n",
    "|DT_QUINT8\t|tf.quint8\t|8 bits unsigned integer used in quantized Ops.|\n"
   ]
  },
  {
   "cell_type": "code",
   "execution_count": 50,
   "metadata": {
    "collapsed": true
   },
   "outputs": [],
   "source": [
    "# usando o placeholder "
   ]
  },
  {
   "cell_type": "code",
   "execution_count": 51,
   "metadata": {
    "collapsed": true
   },
   "outputs": [],
   "source": [
    "a  = tf.placeholder('float')\n"
   ]
  },
  {
   "cell_type": "code",
   "execution_count": 52,
   "metadata": {
    "collapsed": true
   },
   "outputs": [],
   "source": [
    "y = a * 4"
   ]
  },
  {
   "cell_type": "code",
   "execution_count": 54,
   "metadata": {},
   "outputs": [
    {
     "data": {
      "text/plain": [
       "14.0"
      ]
     },
     "execution_count": 54,
     "metadata": {},
     "output_type": "execute_result"
    }
   ],
   "source": [
    "sess = tf.Session()\n",
    "sess.run(y, feed_dict={a:3.5})\n"
   ]
  },
  {
   "cell_type": "markdown",
   "metadata": {},
   "source": [
    "# Operations"
   ]
  },
  {
   "cell_type": "code",
   "execution_count": 55,
   "metadata": {},
   "outputs": [
    {
     "data": {
      "text/plain": [
       "array([-5], dtype=int32)"
      ]
     },
     "execution_count": 55,
     "metadata": {},
     "output_type": "execute_result"
    }
   ],
   "source": [
    "a = tf.constant([5])\n",
    "b = tf.constant([10])\n",
    "\n",
    "resultado = tf.subtract(a , b)\n",
    "sess = tf.Session()\n",
    "sess.run(resultado)\n"
   ]
  },
  {
   "cell_type": "code",
   "execution_count": null,
   "metadata": {
    "collapsed": true
   },
   "outputs": [],
   "source": []
  }
 ],
 "metadata": {
  "kernelspec": {
   "display_name": "Python 3",
   "language": "python",
   "name": "python3"
  },
  "language_info": {
   "codemirror_mode": {
    "name": "ipython",
    "version": 3
   },
   "file_extension": ".py",
   "mimetype": "text/x-python",
   "name": "python",
   "nbconvert_exporter": "python",
   "pygments_lexer": "ipython3",
   "version": "3.5.2"
  }
 },
 "nbformat": 4,
 "nbformat_minor": 2
}
